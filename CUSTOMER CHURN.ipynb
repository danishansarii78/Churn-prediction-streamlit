{
 "cells": [
  {
   "cell_type": "code",
   "execution_count": 3,
   "id": "39fdab9d-c428-44cd-8700-0962cb5b51e5",
   "metadata": {},
   "outputs": [
    {
     "name": "stdout",
     "output_type": "stream",
     "text": [
      "Data shape after cleaning: (7032, 31)\n",
      "[[930 103]\n",
      " [195 179]]\n",
      "              precision    recall  f1-score   support\n",
      "\n",
      "           0       0.83      0.90      0.86      1033\n",
      "           1       0.63      0.48      0.55       374\n",
      "\n",
      "    accuracy                           0.79      1407\n",
      "   macro avg       0.73      0.69      0.70      1407\n",
      "weighted avg       0.78      0.79      0.78      1407\n",
      "\n"
     ]
    }
   ],
   "source": [
    "# Step 1: Load Required Libraries\n",
    "import pandas as pd\n",
    "import numpy as np\n",
    "from sklearn.model_selection import train_test_split\n",
    "from sklearn.ensemble import RandomForestClassifier\n",
    "from sklearn.metrics import classification_report, confusion_matrix\n",
    "\n",
    "# Step 2: Load Dataset\n",
    "df = pd.read_csv(r\"C:\\Users\\DELL\\Downloads\\archive (1)\\WA_Fn-UseC_-Telco-Customer-Churn.csv\")\n",
    "\n",
    "# Step 3: Handle spaces only in TotalCharges column\n",
    "df[\"TotalCharges\"] = pd.to_numeric(df[\"TotalCharges\"], errors='coerce')\n",
    "\n",
    "# Step 4: Drop rows with missing values (after conversion)\n",
    "df.dropna(inplace=True)\n",
    "\n",
    "# Step 5: Drop 'customerID' (not useful)\n",
    "df.drop(\"customerID\", axis=1, inplace=True)\n",
    "\n",
    "# Step 6: Convert target variable to 0/1\n",
    "df[\"Churn\"] = df[\"Churn\"].map({\"Yes\": 1, \"No\": 0})\n",
    "\n",
    "# Step 7: One-Hot Encode all categorical variables\n",
    "df_encoded = pd.get_dummies(df, drop_first=True)\n",
    "\n",
    "# Step 8: Train-test split\n",
    "X = df_encoded.drop(\"Churn\", axis=1)\n",
    "y = df_encoded[\"Churn\"]\n",
    "\n",
    "print(\"Data shape after cleaning:\", df_encoded.shape)\n",
    "\n",
    "# This will now work correctly\n",
    "X_train, X_test, y_train, y_test = train_test_split(X, y, test_size=0.2, random_state=42)\n",
    "\n",
    "# Step 9: Train model\n",
    "model = RandomForestClassifier()\n",
    "model.fit(X_train, y_train)\n",
    "\n",
    "# Step 10: Evaluate\n",
    "y_pred = model.predict(X_test)\n",
    "print(confusion_matrix(y_test, y_pred))\n",
    "print(classification_report(y_test, y_pred))\n"
   ]
  },
  {
   "cell_type": "code",
   "execution_count": 4,
   "id": "a283ac43-3c32-430a-8558-8173946b1aa9",
   "metadata": {},
   "outputs": [],
   "source": [
    "import pickle\n",
    "\n",
    "# Save your trained model\n",
    "pickle.dump(model, open(\"churn_model.pkl\", \"wb\"))\n",
    "\n",
    "# Save your encoded feature columns too\n",
    "pickle.dump(X_train.columns, open(\"churn_features.pkl\", \"wb\"))\n"
   ]
  },
  {
   "cell_type": "code",
   "execution_count": null,
   "id": "38ddbd71-8d44-456c-9237-573e29bf1a3e",
   "metadata": {},
   "outputs": [],
   "source": []
  },
  {
   "cell_type": "code",
   "execution_count": null,
   "id": "b4a8092f-ffc4-46bc-9e1a-03d47f7d8faf",
   "metadata": {},
   "outputs": [],
   "source": []
  }
 ],
 "metadata": {
  "kernelspec": {
   "display_name": "Python 3 (ipykernel)",
   "language": "python",
   "name": "python3"
  },
  "language_info": {
   "codemirror_mode": {
    "name": "ipython",
    "version": 3
   },
   "file_extension": ".py",
   "mimetype": "text/x-python",
   "name": "python",
   "nbconvert_exporter": "python",
   "pygments_lexer": "ipython3",
   "version": "3.12.4"
  }
 },
 "nbformat": 4,
 "nbformat_minor": 5
}
